{
 "cells": [
  {
   "cell_type": "code",
   "execution_count": null,
   "metadata": {},
   "outputs": [],
   "source": [
    "import statsmodels.api as sm\n",
    "import statsmodels.formula.api as smf\n",
    "import pandas as pd\n",
    "import numpy as np\n",
    "import matplotlib.pyplot as plt"
   ]
  },
  {
   "cell_type": "code",
   "execution_count": 42,
   "metadata": {},
   "outputs": [
    {
     "data": {
      "text/html": [
       "<div>\n",
       "<style scoped>\n",
       "    .dataframe tbody tr th:only-of-type {\n",
       "        vertical-align: middle;\n",
       "    }\n",
       "\n",
       "    .dataframe tbody tr th {\n",
       "        vertical-align: top;\n",
       "    }\n",
       "\n",
       "    .dataframe thead th {\n",
       "        text-align: right;\n",
       "    }\n",
       "</style>\n",
       "<table border=\"1\" class=\"dataframe\">\n",
       "  <thead>\n",
       "    <tr style=\"text-align: right;\">\n",
       "      <th></th>\n",
       "      <th>ID</th>\n",
       "      <th>YearBuilt</th>\n",
       "      <th>SqFt</th>\n",
       "      <th>Story</th>\n",
       "      <th>Acres</th>\n",
       "      <th>Baths</th>\n",
       "      <th>Fireplaces</th>\n",
       "      <th>Zip</th>\n",
       "      <th>Value</th>\n",
       "    </tr>\n",
       "  </thead>\n",
       "  <tbody>\n",
       "    <tr>\n",
       "      <th>0</th>\n",
       "      <td>1</td>\n",
       "      <td>1990</td>\n",
       "      <td>2102</td>\n",
       "      <td>1.0</td>\n",
       "      <td>0.77</td>\n",
       "      <td>2.0</td>\n",
       "      <td>1</td>\n",
       "      <td>27603</td>\n",
       "      <td>203200</td>\n",
       "    </tr>\n",
       "    <tr>\n",
       "      <th>1</th>\n",
       "      <td>2</td>\n",
       "      <td>1986</td>\n",
       "      <td>1740</td>\n",
       "      <td>1.5</td>\n",
       "      <td>0.06</td>\n",
       "      <td>3.0</td>\n",
       "      <td>1</td>\n",
       "      <td>27604</td>\n",
       "      <td>119096</td>\n",
       "    </tr>\n",
       "    <tr>\n",
       "      <th>2</th>\n",
       "      <td>3</td>\n",
       "      <td>1955</td>\n",
       "      <td>795</td>\n",
       "      <td>1.0</td>\n",
       "      <td>0.30</td>\n",
       "      <td>1.0</td>\n",
       "      <td>0</td>\n",
       "      <td>27610</td>\n",
       "      <td>71666</td>\n",
       "    </tr>\n",
       "    <tr>\n",
       "      <th>3</th>\n",
       "      <td>4</td>\n",
       "      <td>1983</td>\n",
       "      <td>1152</td>\n",
       "      <td>1.0</td>\n",
       "      <td>0.68</td>\n",
       "      <td>2.0</td>\n",
       "      <td>0</td>\n",
       "      <td>27616</td>\n",
       "      <td>131103</td>\n",
       "    </tr>\n",
       "    <tr>\n",
       "      <th>4</th>\n",
       "      <td>6</td>\n",
       "      <td>1924</td>\n",
       "      <td>1829</td>\n",
       "      <td>1.5</td>\n",
       "      <td>0.25</td>\n",
       "      <td>3.0</td>\n",
       "      <td>1</td>\n",
       "      <td>27607</td>\n",
       "      <td>496425</td>\n",
       "    </tr>\n",
       "  </tbody>\n",
       "</table>\n",
       "</div>"
      ],
      "text/plain": [
       "   ID  YearBuilt  SqFt  Story  Acres  Baths  Fireplaces    Zip   Value\n",
       "0   1       1990  2102    1.0   0.77    2.0           1  27603  203200\n",
       "1   2       1986  1740    1.5   0.06    3.0           1  27604  119096\n",
       "2   3       1955   795    1.0   0.30    1.0           0  27610   71666\n",
       "3   4       1983  1152    1.0   0.68    2.0           0  27616  131103\n",
       "4   6       1924  1829    1.5   0.25    3.0           1  27607  496425"
      ]
     },
     "execution_count": 42,
     "metadata": {},
     "output_type": "execute_result"
    }
   ],
   "source": [
    "data_path = '../data/cleandata/train.csv'\n",
    "df = pd.read_csv(data_path)\n",
    "df.head(5)"
   ]
  },
  {
   "cell_type": "markdown",
   "metadata": {},
   "source": [
    "### 1. Examine the VIF of the features\n",
    "All features have a VIF of less than 5, no multicollinearity is present."
   ]
  },
  {
   "cell_type": "code",
   "execution_count": 28,
   "metadata": {},
   "outputs": [
    {
     "data": {
      "text/html": [
       "<div>\n",
       "<style scoped>\n",
       "    .dataframe tbody tr th:only-of-type {\n",
       "        vertical-align: middle;\n",
       "    }\n",
       "\n",
       "    .dataframe tbody tr th {\n",
       "        vertical-align: top;\n",
       "    }\n",
       "\n",
       "    .dataframe thead th {\n",
       "        text-align: right;\n",
       "    }\n",
       "</style>\n",
       "<table border=\"1\" class=\"dataframe\">\n",
       "  <thead>\n",
       "    <tr style=\"text-align: right;\">\n",
       "      <th></th>\n",
       "      <th>feature</th>\n",
       "      <th>VIF</th>\n",
       "    </tr>\n",
       "  </thead>\n",
       "  <tbody>\n",
       "    <tr>\n",
       "      <th>1</th>\n",
       "      <td>YearBuilt</td>\n",
       "      <td>1.361773</td>\n",
       "    </tr>\n",
       "    <tr>\n",
       "      <th>2</th>\n",
       "      <td>SqFt</td>\n",
       "      <td>2.208398</td>\n",
       "    </tr>\n",
       "    <tr>\n",
       "      <th>3</th>\n",
       "      <td>Story</td>\n",
       "      <td>1.740407</td>\n",
       "    </tr>\n",
       "    <tr>\n",
       "      <th>4</th>\n",
       "      <td>Acres</td>\n",
       "      <td>1.193651</td>\n",
       "    </tr>\n",
       "    <tr>\n",
       "      <th>5</th>\n",
       "      <td>Baths</td>\n",
       "      <td>2.059613</td>\n",
       "    </tr>\n",
       "    <tr>\n",
       "      <th>6</th>\n",
       "      <td>Fireplaces</td>\n",
       "      <td>1.532312</td>\n",
       "    </tr>\n",
       "    <tr>\n",
       "      <th>7</th>\n",
       "      <td>Zip</td>\n",
       "      <td>1.156841</td>\n",
       "    </tr>\n",
       "  </tbody>\n",
       "</table>\n",
       "</div>"
      ],
      "text/plain": [
       "      feature       VIF\n",
       "1   YearBuilt  1.361773\n",
       "2        SqFt  2.208398\n",
       "3       Story  1.740407\n",
       "4       Acres  1.193651\n",
       "5       Baths  2.059613\n",
       "6  Fireplaces  1.532312\n",
       "7         Zip  1.156841"
      ]
     },
     "execution_count": 28,
     "metadata": {},
     "output_type": "execute_result"
    }
   ],
   "source": [
    "import pandas as pd\n",
    "import statsmodels.api as sm\n",
    "from statsmodels.stats.outliers_influence import variance_inflation_factor\n",
    "\n",
    "def calculate_vif(X):\n",
    "    # 为了计算 VIF，X 必须包含常数项\n",
    "    X = sm.add_constant(X)\n",
    "    vif_data = pd.DataFrame()\n",
    "    vif_data[\"feature\"] = X.columns\n",
    "    vif_data[\"VIF\"] = [variance_inflation_factor(X.values, i) for i in range(X.shape[1])]\n",
    "    return vif_data.drop(0)  # 去掉常数项的 VIF\n",
    "\n",
    "X = df[['YearBuilt', 'SqFt', 'Story', 'Acres', 'Baths', 'Fireplaces', 'Zip']]\n",
    "calculate_vif(X)\n"
   ]
  },
  {
   "cell_type": "code",
   "execution_count": 29,
   "metadata": {},
   "outputs": [
    {
     "name": "stdout",
     "output_type": "stream",
     "text": [
      "                            OLS Regression Results                            \n",
      "==============================================================================\n",
      "Dep. Variable:                  Value   R-squared:                       0.734\n",
      "Model:                            OLS   Adj. R-squared:                  0.710\n",
      "Method:                 Least Squares   F-statistic:                     31.48\n",
      "Date:                Thu, 14 Nov 2024   Prob (F-statistic):           1.66e-20\n",
      "Time:                        12:33:32   Log-Likelihood:                -1091.9\n",
      "No. Observations:                  88   AIC:                             2200.\n",
      "Df Residuals:                      80   BIC:                             2220.\n",
      "Df Model:                           7                                         \n",
      "Covariance Type:            nonrobust                                         \n",
      "==============================================================================\n",
      "                 coef    std err          t      P>|t|      [0.025      0.975]\n",
      "------------------------------------------------------------------------------\n",
      "Intercept  -1.031e+07   4.83e+06     -2.134      0.036   -1.99e+07   -6.95e+05\n",
      "YearBuilt  -1730.1417    467.005     -3.705      0.000   -2659.511    -800.772\n",
      "SqFt         125.7395     14.748      8.526      0.000      96.390     155.089\n",
      "Story        1.85e+04   1.96e+04      0.945      0.348   -2.05e+04    5.75e+04\n",
      "Acres       1.411e+04   2.22e+04      0.637      0.526      -3e+04    5.82e+04\n",
      "Baths       8477.0053   1.64e+04      0.517      0.607   -2.42e+04    4.11e+04\n",
      "Fireplaces  5.136e+04   1.76e+04      2.912      0.005    1.63e+04    8.65e+04\n",
      "Zip          494.2576    167.800      2.946      0.004     160.325     828.191\n",
      "==============================================================================\n",
      "Omnibus:                        8.484   Durbin-Watson:                   2.045\n",
      "Prob(Omnibus):                  0.014   Jarque-Bera (JB):               10.381\n",
      "Skew:                           0.469   Prob(JB):                      0.00557\n",
      "Kurtosis:                       4.396   Cond. No.                     2.02e+07\n",
      "==============================================================================\n",
      "\n",
      "Notes:\n",
      "[1] Standard Errors assume that the covariance matrix of the errors is correctly specified.\n",
      "[2] The condition number is large, 2.02e+07. This might indicate that there are\n",
      "strong multicollinearity or other numerical problems.\n"
     ]
    }
   ],
   "source": [
    "# Fit the linear regression model without 'ID'\n",
    "model = smf.ols('Value ~ YearBuilt + SqFt + Story + Acres + Baths + Fireplaces + Zip', data=df).fit()\n",
    "print(model.summary())"
   ]
  },
  {
   "cell_type": "code",
   "execution_count": 30,
   "metadata": {},
   "outputs": [
    {
     "name": "stdout",
     "output_type": "stream",
     "text": [
      "LOOCV: 4486032326.263776\n",
      "RMSE: 66977.84951955218\n"
     ]
    }
   ],
   "source": [
    "## Calculate LOOCV\n",
    "# Get the number of observations\n",
    "n = df.shape[0]\n",
    "# Get the predicted values\n",
    "pred = model.predict(df)\n",
    "# Calculate the hat matrix\n",
    "X = df[['YearBuilt', 'SqFt', 'Story', 'Acres', 'Baths', 'Fireplaces', 'Zip']]\n",
    "X = sm.add_constant(X)\n",
    "hat = model.get_influence().hat_matrix_diag\n",
    "# Calculate the residuals\n",
    "resid = model.resid\n",
    "LOOCV = np.sum((resid / (1 - hat))**2) / n\n",
    "print('LOOCV:', LOOCV)\n",
    "print('RMSE:', np.sqrt(LOOCV))"
   ]
  },
  {
   "cell_type": "code",
   "execution_count": 17,
   "metadata": {},
   "outputs": [
    {
     "data": {
      "text/plain": [
       "Text(0, 0.5, 'Residual')"
      ]
     },
     "execution_count": 17,
     "metadata": {},
     "output_type": "execute_result"
    },
    {
     "data": {
      "image/png": "[encoded data removed]",
      "text/plain": [
       "<Figure size 640x480 with 1 Axes>"
      ]
     },
     "metadata": {},
     "output_type": "display_data"
    }
   ],
   "source": [
    "# residual plot\n",
    "plt.scatter(pred, resid)\n",
    "plt.xlabel('Predicted Value')\n",
    "plt.ylabel('Residual')"
   ]
  },
  {
   "cell_type": "markdown",
   "metadata": {},
   "source": [
    "### Best subset selection"
   ]
  },
  {
   "cell_type": "code",
   "execution_count": 37,
   "metadata": {},
   "outputs": [],
   "source": [
    "import pandas as pd\n",
    "import numpy as np\n",
    "import itertools\n",
    "import statsmodels.api as sm\n",
    "\n",
    "def best_subset_regression(X, y):\n",
    "    \"\"\"\n",
    "    Perform best subset regression to find the best model with any number of predictors.\n",
    "    \n",
    "    Parameters:\n",
    "        X (DataFrame): DataFrame containing predictor variables.\n",
    "        y (Series): Series containing the response variable.\n",
    "        \n",
    "    Returns:\n",
    "        results (DataFrame): DataFrame with details of each subset and their R² and AIC values.\n",
    "        best_model (dict): Dictionary with details of the best subset model.\n",
    "    \"\"\"\n",
    "    # Create lists to store results\n",
    "    models = []\n",
    "    \n",
    "    # Iterate over all possible subset sizes\n",
    "    for k in range(1, len(X.columns) + 1):\n",
    "        # Iterate over all combinations of features of size k\n",
    "        for combo in itertools.combinations(X.columns, k):\n",
    "            # Fit the model with the selected subset of features\n",
    "            X_subset = X[list(combo)]\n",
    "            X_subset = sm.add_constant(X_subset)  # Add a constant term to the model\n",
    "            model = sm.OLS(y, X_subset).fit()\n",
    "            \n",
    "            # Store the model performance metrics\n",
    "            models.append({\n",
    "                \"num_features\": k,\n",
    "                \"features\": combo,\n",
    "                \"R_squared\": model.rsquared,\n",
    "                \"Adj_R_squared\": model.rsquared_adj,\n",
    "                \"AIC\": model.aic\n",
    "            })\n",
    "    \n",
    "    # Convert results to DataFrame for easier viewing and sorting\n",
    "    results = pd.DataFrame(models)\n",
    "    \n",
    "    # Find the model with the highest R² or lowest AIC\n",
    "    best_model_adj_r2 = results.loc[results[\"Adj_R_squared\"].idxmax()]\n",
    "    best_model_aic = results.loc[results[\"AIC\"].idxmin()]\n",
    "    \n",
    "    # Return all results and the best model by R² and AIC\n",
    "    return results, {\"best_by_Adj_R2\": best_model_adj_r2, \"best_by_AIC\": best_model_aic}\n",
    "\n",
    "# 示例使用\n",
    "# results, best_model = best_subset_regression(X, y)\n",
    "# print(\"All model results:\\n\", results)\n",
    "# print(\"Best model by R²:\\n\", best_model[\"best_by_R2\"])\n",
    "# print(\"Best model by AIC:\\n\", best_model[\"best_by_AIC\"])"
   ]
  },
  {
   "cell_type": "code",
   "execution_count": 41,
   "metadata": {},
   "outputs": [
    {
     "name": "stdout",
     "output_type": "stream",
     "text": [
      "Best model by R²:\n",
      " num_features                                      4\n",
      "features         (YearBuilt, SqFt, Fireplaces, Zip)\n",
      "R_squared                                  0.728707\n",
      "Adj_R_squared                              0.715632\n",
      "AIC                                     2195.338691\n",
      "Name: 72, dtype: object\n",
      "Best model by AIC:\n",
      " num_features                                      4\n",
      "features         (YearBuilt, SqFt, Fireplaces, Zip)\n",
      "R_squared                                  0.728707\n",
      "Adj_R_squared                              0.715632\n",
      "AIC                                     2195.338691\n",
      "Name: 72, dtype: object\n"
     ]
    }
   ],
   "source": [
    "# Fit the best subset regression model\n",
    "# X = df[['YearBuilt', 'SqFt', 'Story', 'Acres', 'Baths', 'Fireplaces', 'Zip']]\n",
    "X = df[['YearBuilt', 'SqFt', 'Story', 'Acres', 'Baths', 'Fireplaces', 'Zip']]\n",
    "y = df['Value']\n",
    "results, best_model = best_subset_regression(X, y)\n",
    "print(\"Best model by R²:\\n\", best_model[\"best_by_Adj_R2\"])\n",
    "print(\"Best model by AIC:\\n\", best_model[\"best_by_AIC\"])"
   ]
  },
  {
   "cell_type": "code",
   "execution_count": null,
   "metadata": {},
   "outputs": [],
   "source": []
  }
 ],
 "metadata": {
  "kernelspec": {
   "display_name": "ml",
   "language": "python",
   "name": "python3"
  },
  "language_info": {
   "codemirror_mode": {
    "name": "ipython",
    "version": 3
   },
   "file_extension": ".py",
   "mimetype": "text/x-python",
   "name": "python",
   "nbconvert_exporter": "python",
   "pygments_lexer": "ipython3",
   "version": "3.9.20"
  }
 },
 "nbformat": 4,
 "nbformat_minor": 2
}
