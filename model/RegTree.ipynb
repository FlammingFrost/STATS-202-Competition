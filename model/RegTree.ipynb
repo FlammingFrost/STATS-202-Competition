{
 "cells": [
  {
   "cell_type": "code",
   "execution_count": 2,
   "metadata": {},
   "outputs": [],
   "source": [
    "import pandas as pd\n",
    "import numpy as np\n",
    "import matplotlib.pyplot as plt"
   ]
  },
  {
   "cell_type": "code",
   "execution_count": 3,
   "metadata": {},
   "outputs": [
    {
     "data": {
      "text/html": [
       "<div>\n",
       "<style scoped>\n",
       "    .dataframe tbody tr th:only-of-type {\n",
       "        vertical-align: middle;\n",
       "    }\n",
       "\n",
       "    .dataframe tbody tr th {\n",
       "        vertical-align: top;\n",
       "    }\n",
       "\n",
       "    .dataframe thead th {\n",
       "        text-align: right;\n",
       "    }\n",
       "</style>\n",
       "<table border=\"1\" class=\"dataframe\">\n",
       "  <thead>\n",
       "    <tr style=\"text-align: right;\">\n",
       "      <th></th>\n",
       "      <th>ID</th>\n",
       "      <th>YearBuilt</th>\n",
       "      <th>SqFt</th>\n",
       "      <th>Story</th>\n",
       "      <th>Acres</th>\n",
       "      <th>Baths</th>\n",
       "      <th>Fireplaces</th>\n",
       "      <th>Value</th>\n",
       "      <th>Zip_cluster_0</th>\n",
       "      <th>Zip_cluster_1</th>\n",
       "    </tr>\n",
       "  </thead>\n",
       "  <tbody>\n",
       "    <tr>\n",
       "      <th>0</th>\n",
       "      <td>1</td>\n",
       "      <td>1990</td>\n",
       "      <td>2102</td>\n",
       "      <td>1.0</td>\n",
       "      <td>0.77</td>\n",
       "      <td>2.0</td>\n",
       "      <td>1</td>\n",
       "      <td>203200</td>\n",
       "      <td>0</td>\n",
       "      <td>0</td>\n",
       "    </tr>\n",
       "    <tr>\n",
       "      <th>1</th>\n",
       "      <td>2</td>\n",
       "      <td>1986</td>\n",
       "      <td>1740</td>\n",
       "      <td>1.5</td>\n",
       "      <td>0.06</td>\n",
       "      <td>3.0</td>\n",
       "      <td>1</td>\n",
       "      <td>119096</td>\n",
       "      <td>0</td>\n",
       "      <td>0</td>\n",
       "    </tr>\n",
       "    <tr>\n",
       "      <th>2</th>\n",
       "      <td>3</td>\n",
       "      <td>1955</td>\n",
       "      <td>795</td>\n",
       "      <td>1.0</td>\n",
       "      <td>0.30</td>\n",
       "      <td>1.0</td>\n",
       "      <td>0</td>\n",
       "      <td>71666</td>\n",
       "      <td>0</td>\n",
       "      <td>0</td>\n",
       "    </tr>\n",
       "    <tr>\n",
       "      <th>3</th>\n",
       "      <td>4</td>\n",
       "      <td>1983</td>\n",
       "      <td>1152</td>\n",
       "      <td>1.0</td>\n",
       "      <td>0.68</td>\n",
       "      <td>2.0</td>\n",
       "      <td>0</td>\n",
       "      <td>131103</td>\n",
       "      <td>0</td>\n",
       "      <td>0</td>\n",
       "    </tr>\n",
       "    <tr>\n",
       "      <th>4</th>\n",
       "      <td>6</td>\n",
       "      <td>1924</td>\n",
       "      <td>1829</td>\n",
       "      <td>1.5</td>\n",
       "      <td>0.25</td>\n",
       "      <td>3.0</td>\n",
       "      <td>1</td>\n",
       "      <td>496425</td>\n",
       "      <td>1</td>\n",
       "      <td>0</td>\n",
       "    </tr>\n",
       "  </tbody>\n",
       "</table>\n",
       "</div>"
      ],
      "text/plain": [
       "   ID  YearBuilt  SqFt  Story  Acres  Baths  Fireplaces   Value  \\\n",
       "0   1       1990  2102    1.0   0.77    2.0           1  203200   \n",
       "1   2       1986  1740    1.5   0.06    3.0           1  119096   \n",
       "2   3       1955   795    1.0   0.30    1.0           0   71666   \n",
       "3   4       1983  1152    1.0   0.68    2.0           0  131103   \n",
       "4   6       1924  1829    1.5   0.25    3.0           1  496425   \n",
       "\n",
       "   Zip_cluster_0  Zip_cluster_1  \n",
       "0              0              0  \n",
       "1              0              0  \n",
       "2              0              0  \n",
       "3              0              0  \n",
       "4              1              0  "
      ]
     },
     "execution_count": 3,
     "metadata": {},
     "output_type": "execute_result"
    }
   ],
   "source": [
    "data_path = '../data/cleandata/train_Zip_onehot.csv'\n",
    "df = pd.read_csv(data_path)\n",
    "df['Zip_cluster_0'] = df['Zip_cluster_0'].apply(lambda x: 1 if x else 0)\n",
    "df['Zip_cluster_1'] = df['Zip_cluster_1'].apply(lambda x: 1 if x else 0)\n",
    "df.head(5)"
   ]
  },
  {
   "cell_type": "code",
   "execution_count": 9,
   "metadata": {},
   "outputs": [],
   "source": [
    "from sklearn.tree import DecisionTreeRegressor\n",
    "from sklearn.ensemble import RandomForestRegressor\n",
    "from sklearn.model_selection import train_test_split\n",
    "\n",
    "X = df.drop(['Value'], axis=1)\n",
    "y = df['Value']"
   ]
  },
  {
   "cell_type": "code",
   "execution_count": 67,
   "metadata": {},
   "outputs": [
    {
     "name": "stdout",
     "output_type": "stream",
     "text": [
      "Random Forest RMSE:  72130.44039222466\n",
      "Decision Tree RMSE:  76184.1963802934\n"
     ]
    }
   ],
   "source": [
    "# set seed\n",
    "seed = np.random.randint(100)\n",
    "X_train, X_test, y_train, y_test = train_test_split(X, y, test_size=0.2, random_state=seed)\n",
    "rf = RandomForestRegressor(n_estimators=100, random_state=seed, max_depth=5)\n",
    "rf.fit(X_train, y_train)\n",
    "y_pred = rf.predict(X_test)\n",
    "rt = DecisionTreeRegressor(random_state=seed)\n",
    "rt.fit(X_train, y_train)\n",
    "y_pred_rt = rt.predict(X_test)\n",
    "\n",
    "from sklearn.metrics import mean_squared_error\n",
    "print('Random Forest RMSE: ', np.sqrt(mean_squared_error(y_test, y_pred)))\n",
    "print('Decision Tree RMSE: ', np.sqrt(mean_squared_error(y_test, y_pred_rt)))\n"
   ]
  },
  {
   "cell_type": "code",
   "execution_count": 104,
   "metadata": {},
   "outputs": [],
   "source": [
    "def loocv_rf(X, y, n_estimators=100, max_depth=5, random_state=0):\n",
    "    mse = []\n",
    "    for i in range(len(X)):\n",
    "        X_train = X.drop(i)\n",
    "        y_train = y.drop(i)\n",
    "        X_test =  pd.DataFrame(X.iloc[i]).T\n",
    "        assert isinstance(X_test, pd.DataFrame)\n",
    "        # print(X_test)\n",
    "        y_test = y.iloc[i]\n",
    "        rf = RandomForestRegressor(n_estimators=n_estimators, max_depth=max_depth, random_state=random_state)\n",
    "        rf.fit(X_train, y_train)\n",
    "        y_pred = rf.predict(X_test)\n",
    "        mse.append((y_test - y_pred)**2)\n",
    "    return np.sqrt(np.mean(mse))\n",
    "        "
   ]
  },
  {
   "cell_type": "code",
   "execution_count": 105,
   "metadata": {},
   "outputs": [
    {
     "data": {
      "text/plain": [
       "70951.87851548445"
      ]
     },
     "execution_count": 105,
     "metadata": {},
     "output_type": "execute_result"
    }
   ],
   "source": [
    "loocv_rf(X, y, n_estimators=100, max_depth=5, random_state=1)"
   ]
  },
  {
   "cell_type": "code",
   "execution_count": 108,
   "metadata": {},
   "outputs": [
    {
     "name": "stdout",
     "output_type": "stream",
     "text": [
      "fitting:  {'max_depth': 5, 'n_estimators': 25} loss:  70853.39521922967\n",
      "fitting:  {'max_depth': 5, 'n_estimators': 50} loss:  71897.20571693435\n",
      "fitting:  {'max_depth': 5, 'n_estimators': 100} loss:  70993.82571851273\n",
      "fitting:  {'max_depth': 5, 'n_estimators': 200} loss:  69663.32579615364\n",
      "fitting:  {'max_depth': 5, 'n_estimators': 250} loss:  69683.54344179614\n",
      "fitting:  {'max_depth': 10, 'n_estimators': 25} loss:  70250.47301091529\n",
      "fitting:  {'max_depth': 10, 'n_estimators': 50} loss:  70513.74960773267\n",
      "fitting:  {'max_depth': 10, 'n_estimators': 100} loss:  70148.82145841389\n",
      "fitting:  {'max_depth': 10, 'n_estimators': 200} loss:  68601.78821121308\n",
      "fitting:  {'max_depth': 10, 'n_estimators': 250} loss:  68532.07257230928\n",
      "fitting:  {'max_depth': 15, 'n_estimators': 25} loss:  71602.44791245986\n",
      "fitting:  {'max_depth': 15, 'n_estimators': 50} loss:  71426.71072616421\n",
      "fitting:  {'max_depth': 15, 'n_estimators': 100} loss:  70491.9921568631\n",
      "fitting:  {'max_depth': 15, 'n_estimators': 200} loss:  68578.03007672285\n",
      "fitting:  {'max_depth': 15, 'n_estimators': 250} loss:  68641.13546541151\n",
      "fitting:  {'max_depth': 25, 'n_estimators': 25} loss:  71703.06401257253\n",
      "fitting:  {'max_depth': 25, 'n_estimators': 50} loss:  71465.49739320847\n",
      "fitting:  {'max_depth': 25, 'n_estimators': 100} loss:  70508.89890424824\n",
      "fitting:  {'max_depth': 25, 'n_estimators': 200} loss:  68592.04507415228\n",
      "fitting:  {'max_depth': 25, 'n_estimators': 250} loss:  68652.85268126664\n"
     ]
    },
    {
     "data": {
      "image/png": "[encoded data removed]",
      "text/plain": [
       "<Figure size 640x480 with 2 Axes>"
      ]
     },
     "metadata": {},
     "output_type": "display_data"
    }
   ],
   "source": [
    "param_search = {\n",
    "    'n_estimators': [25, 50, 100, 200, 250],\n",
    "    'max_depth': [5, 10, 15, 25]\n",
    "}\n",
    "\n",
    "from sklearn.model_selection import ParameterGrid\n",
    "grid = ParameterGrid(param_search)\n",
    "rmse = []\n",
    "for param in grid:\n",
    "    print('fitting: ', param, end=' ')\n",
    "    rmse.append(loocv_rf(X, y, **param))\n",
    "    print('loss: ', rmse[-1])\n",
    "\n",
    "rmse = np.array(rmse).reshape(len(param_search['max_depth']), len(param_search['n_estimators']))\n",
    "plt.imshow(rmse, cmap='hot', interpolation='nearest')\n",
    "plt.xlabel('n_estimators')\n",
    "plt.ylabel('max_depth')\n",
    "plt.xticks(range(len(param_search['n_estimators'])), param_search['n_estimators'])\n",
    "plt.yticks(range(len(param_search['max_depth'])), param_search['max_depth'])\n",
    "plt.colorbar()\n",
    "plt.show()\n",
    "\n"
   ]
  },
  {
   "cell_type": "code",
   "execution_count": 109,
   "metadata": {},
   "outputs": [
    {
     "name": "stdout",
     "output_type": "stream",
     "text": [
      "best param:  {'n_estimators': 250, 'max_depth': 10}\n"
     ]
    }
   ],
   "source": [
    "best_param = grid[np.argmin(rmse)]\n",
    "print('best param: ', best_param)\n"
   ]
  },
  {
   "cell_type": "code",
   "execution_count": 110,
   "metadata": {},
   "outputs": [],
   "source": [
    "model_final = RandomForestRegressor(n_estimators=best_param['n_estimators'], max_depth=best_param['max_depth'], random_state=0)\n",
    "model_final.fit(X, y)\n",
    "test = pd.read_csv('../data/cleandata/test_Zip_onehot.csv')\n",
    "test['Zip_cluster_0'] = test['Zip_cluster_0'].apply(lambda x: 1 if x else 0)\n",
    "test['Zip_cluster_1'] = test['Zip_cluster_1'].apply(lambda x: 1 if x else 0)\n",
    "test_pred = model_final.predict(test)"
   ]
  },
  {
   "cell_type": "code",
   "execution_count": 115,
   "metadata": {},
   "outputs": [],
   "source": [
    "test_out = pd.DataFrame({'ID': test['ID'], 'Outcome': test_pred})\n",
    "test_out.to_csv('../data/predictions/RF_Zip_onehot.csv', index=False)\n"
   ]
  },
  {
   "cell_type": "code",
   "execution_count": null,
   "metadata": {},
   "outputs": [],
   "source": []
  }
 ],
 "metadata": {
  "kernelspec": {
   "display_name": "ml",
   "language": "python",
   "name": "python3"
  },
  "language_info": {
   "codemirror_mode": {
    "name": "ipython",
    "version": 3
   },
   "file_extension": ".py",
   "mimetype": "text/x-python",
   "name": "python",
   "nbconvert_exporter": "python",
   "pygments_lexer": "ipython3",
   "version": "3.9.20"
  }
 },
 "nbformat": 4,
 "nbformat_minor": 2
}
