{
 "cells": [
  {
   "cell_type": "code",
   "execution_count": 1,
   "metadata": {},
   "outputs": [],
   "source": [
    "# import solver\n",
    "import numpy as np\n",
    "import matplotlib.pyplot as plt\n",
    "import pandas as pd"
   ]
  },
  {
   "cell_type": "code",
   "execution_count": 2,
   "metadata": {},
   "outputs": [
    {
     "data": {
      "text/plain": [
       "array([40817.759, 22981.229, 52624.087, 19950.142, 17737.757, 21844.753,\n",
       "       31369.548])"
      ]
     },
     "execution_count": 2,
     "metadata": {},
     "output_type": "execute_result"
    }
   ],
   "source": [
    "import sys, os\n",
    "file_names = os.listdir('.')\n",
    "data = { filename: float(filename[:-4]) for filename in file_names if filename[-4:] == '.csv' and filename != 'test_est.csv' }\n",
    "data = pd.DataFrame(data.items(), columns=['filename', 'value'])\n",
    "# initial column 'X' with np.array\n",
    "L = data['value'].values\n",
    "L"
   ]
  },
  {
   "cell_type": "code",
   "execution_count": 3,
   "metadata": {},
   "outputs": [
    {
     "data": {
      "text/plain": [
       "array([236055.66666667, 370113.5       , 112997.66666667, 242601.        ,\n",
       "       132288.        ,  72128.33333333, 284858.33333333, 121413.83333333,\n",
       "       188869.33333333, 145681.        ])"
      ]
     },
     "execution_count": 3,
     "metadata": {},
     "output_type": "execute_result"
    }
   ],
   "source": [
    "prediction = np.zeros((len(L), 10))\n",
    "for i in range(len(L)):\n",
    "    df = pd.read_csv(data['filename'][i])\n",
    "    prediction[i,:] = df['Outcome'].values\n",
    "X = prediction\n",
    "X[0]"
   ]
  },
  {
   "cell_type": "code",
   "execution_count": 4,
   "metadata": {},
   "outputs": [
    {
     "name": "stdout",
     "output_type": "stream",
     "text": [
      "估计的真实值为： [131040.18179937 368654.06162485 104870.2200439  204389.40014767\n",
      " 158600.27192379 114707.86495975 256617.91602662  98788.16167541\n",
      " 182015.25117097 161255.27129665]\n"
     ]
    }
   ],
   "source": [
    "import numpy as np\n",
    "from scipy.optimize import minimize\n",
    "\n",
    "# 初始猜测组和相应的 MSE 值\n",
    "# 假设 guess_sets 是一个包含多组猜测的二维数组，每行为一组猜测的10个数值\n",
    "# 假设 mse_values 是一个包含对应的MSE值的一维数组\n",
    "guess_sets = X\n",
    "mse_values = L **2\n",
    "\n",
    "# 定义目标函数，用于计算猜测值与真实值的差距\n",
    "def mse_loss(true_values):\n",
    "    # 计算每组猜测的 MSE\n",
    "    losses = np.mean((guess_sets - true_values) ** 2, axis=1)\n",
    "    # 计算与已有 MSE 值的差距\n",
    "    return np.sum((losses - mse_values) ** 2)\n",
    "\n",
    "# 初始真实值猜测（可以根据情况调整）\n",
    "initial_guess = np.mean(guess_sets, axis=0)\n",
    "\n",
    "# 使用 scipy.optimize.minimize 进行优化\n",
    "result = minimize(mse_loss, initial_guess, method='L-BFGS-B')\n",
    "\n",
    "losses = np.mean((guess_sets - result.x) ** 2, axis=1)\n",
    "\n",
    "# 打印优化结果\n",
    "if result.success:\n",
    "    print(\"估计的真实值为：\", result.x)\n",
    "else:\n",
    "    print(\"优化未成功，请检查输入数据。\")"
   ]
  },
  {
   "cell_type": "code",
   "execution_count": 5,
   "metadata": {},
   "outputs": [
    {
     "name": "stdout",
     "output_type": "stream",
     "text": [
      "diff [ 4.79221344e-05  4.96208668e-04 -3.76701355e-05  4.15921211e-04\n",
      " -1.83105469e-04 -6.05344772e-04 -4.78863716e-04]\n",
      "theta [131040.18179937 368654.06162485 104870.2200439  204389.40014767\n",
      " 158600.27192379 114707.86495975 256617.91602662  98788.16167541\n",
      " 182015.25117097 161255.27129665]\n"
     ]
    }
   ],
   "source": [
    "# 查看和真实值的差距\n",
    "# print(\"每组猜测的 MSE：\", losses)\n",
    "# print(\"总体 MSE：\", np.mean(losses))\n",
    "print(\"diff\", losses - mse_values)\n",
    "print(\"theta\", result.x)\n"
   ]
  },
  {
   "cell_type": "code",
   "execution_count": 6,
   "metadata": {},
   "outputs": [
    {
     "data": {
      "text/plain": [
       "array([236055.66666667, 370113.5       , 112997.66666667, 242601.        ,\n",
       "       132288.        ,  72128.33333333, 284858.33333333, 121413.83333333,\n",
       "       188869.33333333, 145681.        ])"
      ]
     },
     "execution_count": 6,
     "metadata": {},
     "output_type": "execute_result"
    }
   ],
   "source": [
    "test_set = pd.read_csv('../predictions/40817.759.csv')\n",
    "test_x = test_set['Outcome'].values\n",
    "test_x"
   ]
  },
  {
   "cell_type": "code",
   "execution_count": 7,
   "metadata": {},
   "outputs": [
    {
     "data": {
      "text/plain": [
       "40817.75900000059"
      ]
     },
     "execution_count": 7,
     "metadata": {},
     "output_type": "execute_result"
    }
   ],
   "source": [
    "pred_L = np.mean((test_x - result.x) ** 2)\n",
    "pred_L = np.sqrt(pred_L)\n",
    "pred_L"
   ]
  },
  {
   "cell_type": "code",
   "execution_count": 8,
   "metadata": {},
   "outputs": [],
   "source": [
    "# save the result\n",
    "df = pd.DataFrame({'Outcome': result.x})\n",
    "df.to_csv('test_est.csv', index=False)"
   ]
  },
  {
   "cell_type": "code",
   "execution_count": null,
   "metadata": {},
   "outputs": [],
   "source": []
  }
 ],
 "metadata": {
  "kernelspec": {
   "display_name": "ml",
   "language": "python",
   "name": "python3"
  },
  "language_info": {
   "codemirror_mode": {
    "name": "ipython",
    "version": 3
   },
   "file_extension": ".py",
   "mimetype": "text/x-python",
   "name": "python",
   "nbconvert_exporter": "python",
   "pygments_lexer": "ipython3",
   "version": "3.9.20"
  }
 },
 "nbformat": 4,
 "nbformat_minor": 2
}
